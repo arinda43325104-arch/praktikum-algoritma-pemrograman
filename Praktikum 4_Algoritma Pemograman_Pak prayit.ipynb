{
  "nbformat": 4,
  "nbformat_minor": 0,
  "metadata": {
    "colab": {
      "provenance": [],
      "authorship_tag": "ABX9TyPNmzHiZoGbig+pTwAMuI8h",
      "include_colab_link": true
    },
    "kernelspec": {
      "name": "python3",
      "display_name": "Python 3"
    },
    "language_info": {
      "name": "python"
    }
  },
  "cells": [
    {
      "cell_type": "markdown",
      "metadata": {
        "id": "view-in-github",
        "colab_type": "text"
      },
      "source": [
        "<a href=\"https://colab.research.google.com/github/arinda43325104-arch/praktikum-algoritma-pemrograman/blob/main/Praktikum%204_Algoritma%20Pemograman_Pak%20prayit.ipynb\" target=\"_parent\"><img src=\"https://colab.research.google.com/assets/colab-badge.svg\" alt=\"Open In Colab\"/></a>"
      ]
    },
    {
      "cell_type": "markdown",
      "source": [
        "Praktikum 1 : Perulangan For dengan Range"
      ],
      "metadata": {
        "id": "4_-U2F551JVi"
      }
    },
    {
      "cell_type": "code",
      "execution_count": null,
      "metadata": {
        "colab": {
          "base_uri": "https://localhost:8080/"
        },
        "id": "f86CRgn_0rFF",
        "outputId": "a8656c48-875d-49c0-fd2c-41ee25465976"
      },
      "outputs": [
        {
          "output_type": "stream",
          "name": "stdout",
          "text": [
            "1\n",
            "2\n",
            "3\n",
            "4\n",
            "5\n"
          ]
        }
      ],
      "source": [
        "for i in range(1, 6):\n",
        "  print(i)"
      ]
    },
    {
      "cell_type": "markdown",
      "source": [
        "Praktikum 2 : Perulangan While"
      ],
      "metadata": {
        "id": "MMYcmjXq1f0s"
      }
    },
    {
      "cell_type": "code",
      "source": [
        "n = int(input(\"Masukkan angka: \"))\n",
        "while n > 0:\n",
        "  print(n)\n",
        "  n -= 1"
      ],
      "metadata": {
        "id": "pkaAPc9V1j9x",
        "colab": {
          "base_uri": "https://localhost:8080/"
        },
        "outputId": "29bb6343-cf58-4376-e238-fb5f28616f28"
      },
      "execution_count": null,
      "outputs": [
        {
          "output_type": "stream",
          "name": "stdout",
          "text": [
            "Masukkan angka: 5\n",
            "5\n",
            "4\n",
            "3\n",
            "2\n",
            "1\n"
          ]
        }
      ]
    },
    {
      "cell_type": "markdown",
      "source": [
        "Praktikum 3 : Nested Loop (Segitiga Bintang)"
      ],
      "metadata": {
        "id": "wKZP7yMFmv2G"
      }
    },
    {
      "cell_type": "code",
      "source": [
        "for i in range(1,6):\n",
        "  for j in range (i):\n",
        "    print(\"*\", end=\"\")\n",
        "  print()"
      ],
      "metadata": {
        "colab": {
          "base_uri": "https://localhost:8080/"
        },
        "id": "5HcucB07mz0J",
        "outputId": "5a038a5f-df35-45d3-e9db-8831d1c6853f"
      },
      "execution_count": null,
      "outputs": [
        {
          "output_type": "stream",
          "name": "stdout",
          "text": [
            "*\n",
            "**\n",
            "***\n",
            "****\n",
            "*****\n"
          ]
        }
      ]
    },
    {
      "cell_type": "markdown",
      "source": [
        "Praktikum 4 : Break dan Continue"
      ],
      "metadata": {
        "id": "YDhcSlPJTwzU"
      }
    },
    {
      "cell_type": "code",
      "source": [
        "for i in range(1, 10):\n",
        "  if i == 5:\n",
        "    print(\"Angka 5 ditemukan\")\n",
        "    break"
      ],
      "metadata": {
        "colab": {
          "base_uri": "https://localhost:8080/"
        },
        "id": "AimrShJ4V8Wf",
        "outputId": "ed0544e2-d002-489c-be54-e88abf5038f6"
      },
      "execution_count": null,
      "outputs": [
        {
          "output_type": "stream",
          "name": "stdout",
          "text": [
            "Angka 5 ditemukan\n"
          ]
        }
      ]
    },
    {
      "cell_type": "code",
      "source": [
        "for i in range(1, 5):\n",
        "  if i % 2 == 1:\n",
        "    continue\n",
        "  print(i)"
      ],
      "metadata": {
        "colab": {
          "base_uri": "https://localhost:8080/"
        },
        "id": "3rid4gSAXw1E",
        "outputId": "f70141de-752a-4979-ac34-6ddf74b63173"
      },
      "execution_count": null,
      "outputs": [
        {
          "output_type": "stream",
          "name": "stdout",
          "text": [
            "2\n",
            "4\n"
          ]
        }
      ]
    },
    {
      "cell_type": "markdown",
      "source": [
        "Praktikum 5 : For pada Dictionary"
      ],
      "metadata": {
        "id": "Z7qlG_lUYtIz"
      }
    },
    {
      "cell_type": "code",
      "source": [
        "data = {\"Nama\": \"Andi\", \"Umur\": 20, \"Prodi\": \"TRK\"}\n",
        "\n",
        "for k, v in data.items():\n",
        "  print(k, \":\", v)"
      ],
      "metadata": {
        "colab": {
          "base_uri": "https://localhost:8080/"
        },
        "id": "naVlACgWYyJm",
        "outputId": "fbad8885-509e-41c7-8788-d7c7fa7f6d55"
      },
      "execution_count": null,
      "outputs": [
        {
          "output_type": "stream",
          "name": "stdout",
          "text": [
            "Nama : Andi\n",
            "Umur : 20\n",
            "Prodi : TRK\n"
          ]
        }
      ]
    },
    {
      "cell_type": "markdown",
      "source": [
        "Praktikum 6 : For dengan Enumerate"
      ],
      "metadata": {
        "id": "cB528LAuaSu6"
      }
    },
    {
      "cell_type": "code",
      "source": [
        "daftar = [\"Andi\", \"Budi\", \"Cici\"]\n",
        "\n",
        "for i, nama in enumerate(daftar, start=1):\n",
        "  print(i, nama)"
      ],
      "metadata": {
        "id": "dPljum--aYf8",
        "colab": {
          "base_uri": "https://localhost:8080/"
        },
        "outputId": "7afabf13-ff28-444c-a8aa-37633f06643b"
      },
      "execution_count": null,
      "outputs": [
        {
          "output_type": "stream",
          "name": "stdout",
          "text": [
            "1 Andi\n",
            "2 Budi\n",
            "3 Cici\n"
          ]
        }
      ]
    },
    {
      "cell_type": "markdown",
      "source": [
        "Praktikum 7 : Studi Kasus = Program Kasir Multi-Item"
      ],
      "metadata": {
        "id": "ifPalI6CEpEn"
      }
    },
    {
      "cell_type": "code",
      "source": [
        "total = 0\n",
        "\n",
        "while True:\n",
        "  barang = input(\"Masukkan nama barang (ketik 'selesai' untuk berhenti): \")\n",
        "  if barang.lower() == \"selesai\":\n",
        "    break\n",
        "  harga = float (input(f\"Masukkan harga {barang}: \"))\n",
        "  jumlah = int(input(f\"Masukkan jumlah {barang}: \"))\n",
        "  subtotal = harga * jumlah\n",
        "  total += subtotal\n",
        "\n",
        "print(\"\\n===== Struk Belanja =====\")\n",
        "print(f\"Total Belanja : Rp {total}\")"
      ],
      "metadata": {
        "colab": {
          "base_uri": "https://localhost:8080/"
        },
        "id": "-vCn81XIE2vf",
        "outputId": "c9936f72-c251-4bcf-9ba2-85093f8ecc38"
      },
      "execution_count": null,
      "outputs": [
        {
          "output_type": "stream",
          "name": "stdout",
          "text": [
            "Masukkan nama barang (ketik 'selesai' untuk berhenti): Buku\n",
            "Masukkan harga Buku: 50.000\n",
            "Masukkan jumlah Buku: 2\n",
            "Masukkan nama barang (ketik 'selesai' untuk berhenti): Pulpen\n",
            "Masukkan harga Pulpen: 5000\n",
            "Masukkan jumlah Pulpen: 3\n",
            "Masukkan nama barang (ketik 'selesai' untuk berhenti): selesai\n",
            "\n",
            "===== Struk Belanja =====\n",
            "Total Belanja : Rp 15100.0\n"
          ]
        }
      ]
    },
    {
      "cell_type": "markdown",
      "source": [
        "Penugasan 1 : Menampilkan Deret Angka"
      ],
      "metadata": {
        "id": "1mBqL0W3KLuq"
      }
    },
    {
      "cell_type": "code",
      "source": [
        "for i in range(3, 31, 3):\n",
        "  if i % 3 == 3:\n",
        "    continue\n",
        "  print(i)"
      ],
      "metadata": {
        "colab": {
          "base_uri": "https://localhost:8080/"
        },
        "outputId": "86cba9e6-a64e-481a-f7ef-19d7467af11d",
        "id": "fsRpf311LfM0"
      },
      "execution_count": null,
      "outputs": [
        {
          "output_type": "stream",
          "name": "stdout",
          "text": [
            "3\n",
            "6\n",
            "9\n",
            "12\n",
            "15\n",
            "18\n",
            "21\n",
            "24\n",
            "27\n",
            "30\n"
          ]
        }
      ]
    },
    {
      "cell_type": "markdown",
      "source": [
        "Penugasan 2 : Hitung Faktorial"
      ],
      "metadata": {
        "id": "qNaCWJ8d8ZUQ"
      }
    },
    {
      "cell_type": "code",
      "source": [
        "n = int(input(\"Masukkan angka: \"))\n",
        "faktorial = 1\n",
        "\n",
        "while n > 0:\n",
        "  faktorial *= n\n",
        "  n -= 1\n",
        "\n",
        "print(\"faktorialnya adalah:\", faktorial)\n"
      ],
      "metadata": {
        "colab": {
          "base_uri": "https://localhost:8080/"
        },
        "id": "xSCCq27uEaZd",
        "outputId": "89ad93c4-b13b-4bab-cc44-4a883cfb6fe7"
      },
      "execution_count": null,
      "outputs": [
        {
          "output_type": "stream",
          "name": "stdout",
          "text": [
            "Masukkan angka: 5\n",
            "faktorialnya adalah: 120\n"
          ]
        }
      ]
    },
    {
      "cell_type": "markdown",
      "source": [
        "Penugasan 3 : Pola Segitiga Terbalik"
      ],
      "metadata": {
        "id": "HNiU_O_NSHlY"
      }
    },
    {
      "cell_type": "code",
      "source": [
        "for i in range(5, 0, -1):\n",
        "  for j in range (i):\n",
        "    print(\"*\", end=\"\")\n",
        "  print()"
      ],
      "metadata": {
        "colab": {
          "base_uri": "https://localhost:8080/"
        },
        "outputId": "6fc96ba3-f52c-4b9a-a929-b986933e0478",
        "id": "gfQ86zx8Wjqj"
      },
      "execution_count": null,
      "outputs": [
        {
          "output_type": "stream",
          "name": "stdout",
          "text": [
            "*****\n",
            "****\n",
            "***\n",
            "**\n",
            "*\n"
          ]
        }
      ]
    },
    {
      "cell_type": "markdown",
      "source": [
        "Penugasan 4 : Cari Bilangan Prima dengan Break"
      ],
      "metadata": {
        "id": "CKxzB6-cZzUc"
      }
    },
    {
      "cell_type": "code",
      "source": [
        "angka = int(input(\"Masukkan angka: \"))\n",
        "\n",
        "if angka > 1:\n",
        "  for i in range(2, angka):\n",
        "    if angka % i == 0:\n",
        "      print(\"faktor\", i, \"adalah\", angka, \"bukan bilangan prima\")\n",
        "      break\n",
        "  else:\n",
        "    print(angka, \"adalah bilangan prima\")\n",
        "for i in range(2, angka):\n",
        "  if angka % i == 0:\n",
        "    print(\"faktor\", i, \"adalah\", angka // i)\n",
        "    break"
      ],
      "metadata": {
        "colab": {
          "base_uri": "https://localhost:8080/"
        },
        "id": "kfOfQddYcSLz",
        "outputId": "bf3b2a3e-4225-4349-cf5a-f078a61c7bf5"
      },
      "execution_count": null,
      "outputs": [
        {
          "output_type": "stream",
          "name": "stdout",
          "text": [
            "Masukkan angka: 5\n",
            "5 adalah bilangan prima\n"
          ]
        }
      ]
    },
    {
      "cell_type": "markdown",
      "source": [
        "Penugasan 5 : Tampilkan Hanya Bilangan Genap dengan Continue"
      ],
      "metadata": {
        "id": "uU2X_nAGnqxc"
      }
    },
    {
      "cell_type": "code",
      "source": [
        "for i in range(1, 20):\n",
        "  if i % 2 == 1:\n",
        "    continue\n",
        "  print(i)"
      ],
      "metadata": {
        "colab": {
          "base_uri": "https://localhost:8080/"
        },
        "outputId": "f7b727e0-ea8b-4ffd-a665-d1e4815193d9",
        "id": "UDmj7cFAnz1O"
      },
      "execution_count": null,
      "outputs": [
        {
          "output_type": "stream",
          "name": "stdout",
          "text": [
            "2\n",
            "4\n",
            "6\n",
            "8\n",
            "10\n",
            "12\n",
            "14\n",
            "16\n",
            "18\n"
          ]
        }
      ]
    },
    {
      "cell_type": "markdown",
      "source": [
        "Penugasan 6 : Iterasi Dictionary Mahasiswa"
      ],
      "metadata": {
        "id": "A9rqX1OIalFZ"
      }
    },
    {
      "cell_type": "code",
      "source": [
        "data = {\"Nama\": \"Budi\", \"Umur\": 21, \"Prodi\": \"Teknik Komputer\"}\n",
        "\n",
        "for k, v in data.items():\n",
        "  print(k, \":\", v)"
      ],
      "metadata": {
        "colab": {
          "base_uri": "https://localhost:8080/"
        },
        "outputId": "f7fb5117-7717-479b-bf75-cffd68b94a51",
        "id": "JxAAp6YIa9oW"
      },
      "execution_count": null,
      "outputs": [
        {
          "output_type": "stream",
          "name": "stdout",
          "text": [
            "Nama : Budi\n",
            "Umur : 21\n",
            "Prodi : Teknik Komputer\n"
          ]
        }
      ]
    },
    {
      "cell_type": "markdown",
      "source": [
        "Penugasan 7 : Enumerate Daftar Barang"
      ],
      "metadata": {
        "id": "HtODZ2qXbILp"
      }
    },
    {
      "cell_type": "code",
      "source": [
        "daftar = [\"Buku\", \"Pulpen\", \"Tas\"]\n",
        "\n",
        "for i, nama in enumerate(daftar, start=1):\n",
        "  print(i, nama)"
      ],
      "metadata": {
        "colab": {
          "base_uri": "https://localhost:8080/"
        },
        "outputId": "db336790-0f09-4045-ec1a-7dc046c9776e",
        "id": "TX29jYyJbkyF"
      },
      "execution_count": null,
      "outputs": [
        {
          "output_type": "stream",
          "name": "stdout",
          "text": [
            "1 Buku\n",
            "2 Pulpen\n",
            "3 Tas\n"
          ]
        }
      ]
    },
    {
      "cell_type": "markdown",
      "source": [
        "Penugasan 8 : Studi Kasus - Kasir Diskon"
      ],
      "metadata": {
        "id": "qTo-AAJTcMAN"
      }
    },
    {
      "cell_type": "code",
      "source": [
        "print(\"=== Program Kasir Diskon 10% ===\")\n",
        "print(\"Ketik 'selesai' untuk berhenti.\\n\")\n",
        "\n",
        "total = 0\n",
        "\n",
        "while True:\n",
        "    nama = input(\"Nama barang: \")\n",
        "    if nama.lower() == \"selesai\":\n",
        "        break\n",
        "\n",
        "    harga = int(input(\"Harga barang: \"))\n",
        "    jumlah = int(input(\"Jumlah barang: \"))\n",
        "\n",
        "    subtotal = harga * jumlah\n",
        "    total += subtotal\n",
        "\n",
        "# Hitung diskon\n",
        "if total >= 200000:\n",
        "    diskon = total * 0.1\n",
        "else:\n",
        "    diskon = 0\n",
        "\n",
        "total_bayar = total - diskon\n",
        "\n",
        "# Tampilkan hasil\n",
        "print(\"\\n=== STRUK BELANJA ===\")\n",
        "print(\"Total belanja : Rp\", total)\n",
        "print(\"Diskon 10%    : Rp\", int(diskon))\n",
        "print(\"Total bayar   : Rp\", int(total_bayar))\n",
        "print(\"=======================\")\n",
        "print(\"Terima kasih telah berbelanja!\")"
      ],
      "metadata": {
        "colab": {
          "base_uri": "https://localhost:8080/"
        },
        "id": "6mcwbDP1kf0F",
        "outputId": "9ab050a7-cabd-4b1d-c8c6-d32925223b4c"
      },
      "execution_count": null,
      "outputs": [
        {
          "output_type": "stream",
          "name": "stdout",
          "text": [
            "=== Program Kasir Diskon 10% ===\n",
            "Ketik 'selesai' untuk berhenti.\n",
            "\n",
            "Nama barang: Baju\n",
            "Harga barang: 70000\n",
            "Jumlah barang: 3\n",
            "Nama barang: Sepatu\n",
            "Harga barang: 500000\n",
            "Jumlah barang: 2\n",
            "Nama barang: selesai\n",
            "\n",
            "=== STRUK BELANJA ===\n",
            "Total belanja : Rp 1210000\n",
            "Diskon 10%    : Rp 121000\n",
            "Total bayar   : Rp 1089000\n",
            "=======================\n",
            "Terima kasih telah berbelanja!\n"
          ]
        }
      ]
    }
  ]
}