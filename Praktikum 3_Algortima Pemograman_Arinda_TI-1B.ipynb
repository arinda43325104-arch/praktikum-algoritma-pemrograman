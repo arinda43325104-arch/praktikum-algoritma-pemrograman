{
  "nbformat": 4,
  "nbformat_minor": 0,
  "metadata": {
    "colab": {
      "provenance": [],
      "authorship_tag": "ABX9TyOdQdQAqCp3wmjcKeJQrq9P",
      "include_colab_link": true
    },
    "kernelspec": {
      "name": "python3",
      "display_name": "Python 3"
    },
    "language_info": {
      "name": "python"
    }
  },
  "cells": [
    {
      "cell_type": "markdown",
      "metadata": {
        "id": "view-in-github",
        "colab_type": "text"
      },
      "source": [
        "<a href=\"https://colab.research.google.com/github/arinda43325104-arch/praktikum-algoritma-pemrograman/blob/main/Praktikum%203_Algortima%20Pemograman_Arinda_TI-1B.ipynb\" target=\"_parent\"><img src=\"https://colab.research.google.com/assets/colab-badge.svg\" alt=\"Open In Colab\"/></a>"
      ]
    },
    {
      "cell_type": "markdown",
      "source": [
        "Praktikum 1 : If sederhana"
      ],
      "metadata": {
        "id": "JRgstKvAcJbu"
      }
    },
    {
      "cell_type": "code",
      "execution_count": null,
      "metadata": {
        "colab": {
          "base_uri": "https://localhost:8080/"
        },
        "id": "z9wngrfzBFpt",
        "outputId": "e9521279-3a7f-48a8-8e0b-14853deb0f41"
      },
      "outputs": [
        {
          "output_type": "stream",
          "name": "stdout",
          "text": [
            "Masukkan nilai ujian: 70\n",
            "Anda LULUS\n"
          ]
        }
      ],
      "source": [
        "nilai = int(input(\"Masukkan nilai ujian: \"))\n",
        "\n",
        "if nilai >= 70:\n",
        "    print(\"Anda LULUS\")"
      ]
    },
    {
      "cell_type": "markdown",
      "source": [
        "Praktikum 2 : If Else"
      ],
      "metadata": {
        "id": "4oZ44fRjK6tb"
      }
    },
    {
      "cell_type": "code",
      "source": [
        "nilai = int(input(\"Masukkan nilai ujian: \"))\n",
        "if nilai >= 60:\n",
        "  print(\"Anda LULUS\")\n",
        "else:\n",
        "  print(\"Anda TIDAK LULUS\")"
      ],
      "metadata": {
        "colab": {
          "base_uri": "https://localhost:8080/"
        },
        "id": "BvkzkxghLEAm",
        "outputId": "d53c2139-5d17-4e3c-d11c-8e920d8b5594"
      },
      "execution_count": null,
      "outputs": [
        {
          "output_type": "stream",
          "name": "stdout",
          "text": [
            "Masukkan nilai ujian: 50\n",
            "Anda TIDAK LULUS\n"
          ]
        }
      ]
    },
    {
      "cell_type": "markdown",
      "source": [
        "Praktikum 3 : If Elif Else (Grade)"
      ],
      "metadata": {
        "id": "-X4PpVGdMdZe"
      }
    },
    {
      "cell_type": "code",
      "source": [
        "nilai = int(input(\"Masukkan nilai akhir: \"))\n",
        "\n",
        "if nilai >= 85:\n",
        "    grade = \"A\"\n",
        "elif nilai >= 70:\n",
        "      grade = \"B\"\n",
        "elif nilai >= 55:\n",
        "      grade = \"C\"\n",
        "elif nilai >= 40:\n",
        "      grade = \"D\"\n",
        "else:\n",
        "      grade = \"E\"\n",
        "\n",
        "print(f\"Nilai Anda {nilai}, maka grade Anda = {grade}\")\n"
      ],
      "metadata": {
        "id": "uTCfAeW_MpLR",
        "colab": {
          "base_uri": "https://localhost:8080/"
        },
        "outputId": "863a6d79-71b1-4255-fbe7-a78d0a3a2fa9"
      },
      "execution_count": null,
      "outputs": [
        {
          "output_type": "stream",
          "name": "stdout",
          "text": [
            "Masukkan nilai akhir: 78\n",
            "Nilai Anda 78, maka grade Anda = B\n"
          ]
        }
      ]
    },
    {
      "cell_type": "markdown",
      "source": [
        "Praktikum 4 : Nested if"
      ],
      "metadata": {
        "id": "gsBRj6GZWFN7"
      }
    },
    {
      "cell_type": "code",
      "source": [
        "ipk = float(input(\"Masukkan IPK: \"))\n",
        "sks = int(input(\"Masukkan jumlah SKS: \"))\n",
        "\n",
        "if ipk >= 3.0:\n",
        "  if sks >= 18:\n",
        "    print(\"Anda LAYAK mendapat beasiswa\")\n",
        "  else:\n",
        "    print(\"IPK memenuhi, tapi SKS kurang\")\n",
        "else:\n",
        "  print(\"Anda TIDAK layak mendapat beasiswa\")"
      ],
      "metadata": {
        "colab": {
          "base_uri": "https://localhost:8080/"
        },
        "id": "nzON8cQyWIr-",
        "outputId": "70dc8d45-378c-42de-f41b-947a193f9e03"
      },
      "execution_count": null,
      "outputs": [
        {
          "output_type": "stream",
          "name": "stdout",
          "text": [
            "Masukkan IPK: 2.8\n",
            "Masukkan jumlah SKS: 20\n",
            "Anda TIDAK layak mendapat beasiswa\n"
          ]
        }
      ]
    },
    {
      "cell_type": "markdown",
      "source": [
        "Praktikum 5 : Match case"
      ],
      "metadata": {
        "id": "QD29ifUuW542"
      }
    },
    {
      "cell_type": "code",
      "source": [
        "menu = int(input(\"Pilih menu (1-3): \"))\n",
        "\n",
        "match menu:\n",
        "    case 1:\n",
        "      print(\"Anda memilih Nasi Goreng\")\n",
        "    case 2:\n",
        "      print(\"Anda memilih Mie Ayam\")\n",
        "    case 3:\n",
        "      print(\"Anda memilih Soto Ayam\")\n",
        "    case _:\n",
        "      print(\"Menu tidak tersedia\")"
      ],
      "metadata": {
        "colab": {
          "base_uri": "https://localhost:8080/"
        },
        "id": "yIiUSDzcW-Oq",
        "outputId": "ca6ad1f7-cbe9-4f94-e2cf-549fc940d9fb"
      },
      "execution_count": null,
      "outputs": [
        {
          "output_type": "stream",
          "name": "stdout",
          "text": [
            "Pilih menu (1-3): 9\n",
            "Menu tidak tersedia\n"
          ]
        }
      ]
    },
    {
      "cell_type": "markdown",
      "source": [
        "Praktikum 6 : Studi Kasus_Program Kasir"
      ],
      "metadata": {
        "id": "W0y48KMiYEoY"
      }
    },
    {
      "cell_type": "code",
      "source": [
        "barang = input(\"Masukkan nama barang: \")\n",
        "harga = float(input(\"Masukkan harga barang: \"))\n",
        "jumlah = int(input(\"Masukkan jumlah barang: \"))\n",
        "\n",
        "total = harga + jumlah\n",
        "\n",
        "if total >= 500000:\n",
        "  diakon = 0.2\n",
        "if total >= 250000:\n",
        "  diskon = 0.1\n",
        "else:\n",
        "  diskon = 0\n",
        "\n",
        "bayar = total - (total + diskon)\n",
        "\n",
        "print(\"\\n===== Struk Belanja =====\")\n",
        "print(f\"Barang  : {barang}\")\n",
        "print(f\"Jumlah  : {jumlah}\")\n",
        "print(f\"Total   : Rp {total}\")\n",
        "print(f\"Diskon  : {diskon*100}%\")\n",
        "print(f\"Bayar   : Rp {bayar}\")"
      ],
      "metadata": {
        "colab": {
          "base_uri": "https://localhost:8080/"
        },
        "id": "Fm8FIGoDYLVT",
        "outputId": "eca32e4f-6c4a-4524-f280-80b5259ad98f"
      },
      "execution_count": null,
      "outputs": [
        {
          "output_type": "stream",
          "name": "stdout",
          "text": [
            "Masukkan nama barang: pulpen\n",
            "Masukkan harga barang: 5000\n",
            "Masukkan jumlah barang: 10\n",
            "\n",
            "===== Struk Belanja =====\n",
            "Barang  : pulpen\n",
            "Jumlah  : 10\n",
            "Total   : Rp 5010.0\n",
            "Diskon  : 0%\n",
            "Bayar   : Rp 0.0\n"
          ]
        }
      ]
    },
    {
      "cell_type": "markdown",
      "source": [
        "Penugasan 1: Cek Bilangan Positif, Negatif, atau Nol"
      ],
      "metadata": {
        "id": "5s8ESLi1npIo"
      }
    },
    {
      "cell_type": "code",
      "source": [
        "bilangan = int(input(\"Masukkan bilangan: \"))\n",
        "\n",
        "if bilangan > 0:\n",
        "    print(\"Bilangan Positif\")\n",
        "elif bilangan < 0:\n",
        "    print(\"Bilangan Negatif\")\n",
        "else:\n",
        "    print(\"Bilangan Nol\")"
      ],
      "metadata": {
        "colab": {
          "base_uri": "https://localhost:8080/"
        },
        "id": "-S538I7Mp9HR",
        "outputId": "e1f22f03-58a3-46b3-cdd2-3a7a1a08dda0"
      },
      "execution_count": null,
      "outputs": [
        {
          "output_type": "stream",
          "name": "stdout",
          "text": [
            "Masukkan bilangan: 5\n",
            "Bilangan Positif\n"
          ]
        }
      ]
    },
    {
      "cell_type": "markdown",
      "source": [
        "Penugasan 2: Menentukan Kategori Usia"
      ],
      "metadata": {
        "id": "k-FWDXtkqaQN"
      }
    },
    {
      "cell_type": "code",
      "source": [
        "umur = int(input(\"Masukkan umur: \"))\n",
        "\n",
        "if umur < 5:\n",
        "    print(\"Kategori: Balita\")\n",
        "elif umur <= 11:\n",
        "    print(\"Kategori: Anak-anak\")\n",
        "elif umur <= 17:\n",
        "    print(\"Kategori: Remaja\")\n",
        "elif umur <= 59:\n",
        "    print(\"Kategori: Dewasa\")\n",
        "else:\n",
        "    print(\"Kategori: Lansia\")"
      ],
      "metadata": {
        "colab": {
          "base_uri": "https://localhost:8080/"
        },
        "id": "KRE6pEM_qi_w",
        "outputId": "0f73d0bc-f1a1-4ebc-db82-1dd7915d11f8"
      },
      "execution_count": null,
      "outputs": [
        {
          "output_type": "stream",
          "name": "stdout",
          "text": [
            "Masukkan umur: 63\n",
            "Kategori: Lansia\n"
          ]
        }
      ]
    },
    {
      "cell_type": "markdown",
      "source": [
        "Penugasan 3: Menghitung Tarif Parkir"
      ],
      "metadata": {
        "id": "mWiqxtyss0QU"
      }
    },
    {
      "cell_type": "code",
      "source": [
        "jam = int(input(\"Masukkan lama parkir (jam): \"))\n",
        "\n",
        "if jam <= 2:\n",
        "    tarif = 5000\n",
        "else:\n",
        "    tarif = 5000 + (jam - 2) * 2000\n",
        "\n",
        "if tarif > 20000:\n",
        "    tarif = 20000\n",
        "\n",
        "print(f\"Total tarif parkir: Rp {tarif}\")"
      ],
      "metadata": {
        "colab": {
          "base_uri": "https://localhost:8080/"
        },
        "id": "_gUSHbyJs1YD",
        "outputId": "34f36918-d30a-4d01-8fa2-371a772271eb"
      },
      "execution_count": null,
      "outputs": [
        {
          "output_type": "stream",
          "name": "stdout",
          "text": [
            "Masukkan lama parkir (jam): 5\n",
            "Total tarif parkir: Rp 11000\n"
          ]
        }
      ]
    },
    {
      "cell_type": "markdown",
      "source": [
        "Penugasan 4: Program Login Sederhana"
      ],
      "metadata": {
        "id": "a1ncE7OWtZZT"
      }
    },
    {
      "cell_type": "code",
      "source": [
        "username = input(\"Masukkan username: \")\n",
        "password = input(\"Masukkan password: \")\n",
        "\n",
        "if username == \"admin\" and password == \"1234\":\n",
        "    print(\"Login berhasil!\")\n",
        "else:\n",
        "    print(\"Login gagal! Username atau password salah.\")"
      ],
      "metadata": {
        "colab": {
          "base_uri": "https://localhost:8080/"
        },
        "id": "pFC1FpM_taUW",
        "outputId": "3bcf642b-b909-4257-f749-0be88a8aae7c"
      },
      "execution_count": null,
      "outputs": [
        {
          "output_type": "stream",
          "name": "stdout",
          "text": [
            "Masukkan username: admin\n",
            "Masukkan password: 1234\n",
            "Login berhasil!\n"
          ]
        }
      ]
    },
    {
      "cell_type": "markdown",
      "source": [
        "Penugasan 5: Cek Bilangan Genap atau Ganjil (One-Liner If)"
      ],
      "metadata": {
        "id": "n_m1ge_XuG7D"
      }
    },
    {
      "cell_type": "code",
      "source": [
        "angka = int(input(\"Masukkan bilangan: \"))\n",
        "print(\"Bilangan Genap\" if angka % 2 == 0 else \"Bilangan Ganjil\")"
      ],
      "metadata": {
        "colab": {
          "base_uri": "https://localhost:8080/"
        },
        "id": "9PBgviz4uIxg",
        "outputId": "3bd50ee0-5df1-40e1-9c5b-6438255abbcc"
      },
      "execution_count": null,
      "outputs": [
        {
          "output_type": "stream",
          "name": "stdout",
          "text": [
            "Masukkan bilangan: 5\n",
            "Bilangan Ganjil\n"
          ]
        }
      ]
    },
    {
      "cell_type": "markdown",
      "source": [
        "Penugasan 6: Menu Restoran (Match-Case)"
      ],
      "metadata": {
        "id": "_eK3ot5mupL1"
      }
    },
    {
      "cell_type": "code",
      "source": [
        "menu = int(input(\"Pilih menu (1-3): \"))\n",
        "\n",
        "match menu:\n",
        "    case 1:\n",
        "        print(\"Anda memilih Nasi Goreng\")\n",
        "    case 2:\n",
        "        print(\"Anda memilih Mie Ayam\")\n",
        "    case 3:\n",
        "        print(\"Anda memilih Soto Ayam\")\n",
        "    case _:\n",
        "        print(\"Menu tidak tersedia\")"
      ],
      "metadata": {
        "colab": {
          "base_uri": "https://localhost:8080/"
        },
        "id": "pKPKR3YxuqWW",
        "outputId": "f0bbeefe-eb7b-42ad-d489-46f6d85dffc7"
      },
      "execution_count": null,
      "outputs": [
        {
          "output_type": "stream",
          "name": "stdout",
          "text": [
            "Pilih menu (1-3): 2\n",
            "Anda memilih Mie Ayam\n"
          ]
        }
      ]
    },
    {
      "cell_type": "markdown",
      "source": [
        "Penugasan 7: Program Penentuan Diskon Belanja"
      ],
      "metadata": {
        "id": "FTouaUtQvZt-"
      }
    },
    {
      "cell_type": "code",
      "source": [
        "barang = input(\"Masukkan nama barang: \")\n",
        "harga = float(input(\"Masukkan harga barang: \"))\n",
        "jumlah = int(input(\"Masukkan jumlah barang: \"))\n",
        "\n",
        "total = harga * jumlah\n",
        "\n",
        "if total >= 500000:\n",
        "    diskon = 0.2\n",
        "elif total >= 250000:\n",
        "    diskon = 0.1\n",
        "else:\n",
        "    diskon = 0\n",
        "\n",
        "bayar = total - (total * diskon)\n",
        "\n",
        "print(\"\\n===== STRUK BELANJA =====\")\n",
        "print(f\"Nama Barang : {barang}\")\n",
        "print(f\"Jumlah      : {jumlah}\")\n",
        "print(f\"Total Harga : Rp {total:.0f}\")\n",
        "print(f\"Diskon      : {diskon * 100}%\")\n",
        "print(f\"Total Bayar : Rp {bayar:.0f}\")"
      ],
      "metadata": {
        "colab": {
          "base_uri": "https://localhost:8080/"
        },
        "id": "mbwXJOkDvair",
        "outputId": "a34f5082-1798-413a-c03e-4f652eb68de0"
      },
      "execution_count": null,
      "outputs": [
        {
          "output_type": "stream",
          "name": "stdout",
          "text": [
            "Masukkan nama barang: baju\n",
            "Masukkan harga barang: 100000\n",
            "Masukkan jumlah barang: 2\n",
            "\n",
            "===== STRUK BELANJA =====\n",
            "Nama Barang : baju\n",
            "Jumlah      : 2\n",
            "Total Harga : Rp 200000\n",
            "Diskon      : 0%\n",
            "Total Bayar : Rp 200000\n"
          ]
        }
      ]
    }
  ]
}