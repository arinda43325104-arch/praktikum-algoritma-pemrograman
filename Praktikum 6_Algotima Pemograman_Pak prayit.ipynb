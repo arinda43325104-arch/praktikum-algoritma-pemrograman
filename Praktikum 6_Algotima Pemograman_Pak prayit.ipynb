{
  "nbformat": 4,
  "nbformat_minor": 0,
  "metadata": {
    "colab": {
      "provenance": [],
      "authorship_tag": "ABX9TyOjkVNx8aRKcA8JgfHxi9/d",
      "include_colab_link": true
    },
    "kernelspec": {
      "name": "python3",
      "display_name": "Python 3"
    },
    "language_info": {
      "name": "python"
    }
  },
  "cells": [
    {
      "cell_type": "markdown",
      "metadata": {
        "id": "view-in-github",
        "colab_type": "text"
      },
      "source": [
        "<a href=\"https://colab.research.google.com/github/arinda43325104-arch/praktikum-algoritma-pemrograman/blob/main/Praktikum%206_Algotima%20Pemograman_Pak%20prayit.ipynb\" target=\"_parent\"><img src=\"https://colab.research.google.com/assets/colab-badge.svg\" alt=\"Open In Colab\"/></a>"
      ]
    },
    {
      "cell_type": "markdown",
      "source": [
        "Praktikum 1 : Membuat dan Mengakses List ID"
      ],
      "metadata": {
        "id": "UWUWqKP2LznC"
      }
    },
    {
      "cell_type": "code",
      "execution_count": 1,
      "metadata": {
        "id": "fdTOLmD84CUh",
        "colab": {
          "base_uri": "https://localhost:8080/"
        },
        "outputId": "d46a2be5-9833-46ee-afa2-986101cc0137"
      },
      "outputs": [
        {
          "output_type": "stream",
          "name": "stdout",
          "text": [
            "Andi\n",
            "Budi\n",
            "Cici\n"
          ]
        }
      ],
      "source": [
        "mahasiswa = [\"Andi\", \"Budi\", \"Cici\"]\n",
        "print(mahasiswa[0])  # Andi\n",
        "print(mahasiswa[1])  # Budi\n",
        "print(mahasiswa[-1])  # Cici"
      ]
    },
    {
      "cell_type": "markdown",
      "source": [
        "Praktikum 2 : Update dan Operasi Dasar List"
      ],
      "metadata": {
        "id": "-wd9FFv6MzC0"
      }
    },
    {
      "cell_type": "code",
      "source": [
        "nilai = [85, 90, 78]\n",
        "nilai[1] = 95\n",
        "nilai.append(100)\n",
        "nilai.remove(78)\n",
        "print(nilai)"
      ],
      "metadata": {
        "colab": {
          "base_uri": "https://localhost:8080/"
        },
        "id": "_w1v3KWeM4oN",
        "outputId": "42c4f79d-c9fc-4414-fc87-be83a7111903"
      },
      "execution_count": 2,
      "outputs": [
        {
          "output_type": "stream",
          "name": "stdout",
          "text": [
            "[85, 95, 100]\n"
          ]
        }
      ]
    },
    {
      "cell_type": "markdown",
      "source": [
        "Praktikum 3 : Slicing List"
      ],
      "metadata": {
        "id": "n10TRpI9Ncbh"
      }
    },
    {
      "cell_type": "code",
      "source": [
        "nilai = [85, 90, 78, 92, 88]\n",
        "print(nilai[0:3])\t# [85, 90, 78]\n",
        "print(nilai[2:])\t# [78, 92, 88]\n",
        "print(nilai[:3])\t# [85, 90, 78]"
      ],
      "metadata": {
        "colab": {
          "base_uri": "https://localhost:8080/"
        },
        "id": "F0I5TOlONoYb",
        "outputId": "75135846-baca-4902-d403-a6496a92e8b7"
      },
      "execution_count": 3,
      "outputs": [
        {
          "output_type": "stream",
          "name": "stdout",
          "text": [
            "[85, 90, 78]\n",
            "[78, 92, 88]\n",
            "[85, 90, 78]\n"
          ]
        }
      ]
    },
    {
      "cell_type": "markdown",
      "source": [
        "Praktikum 04 : List 2D (Matriks)"
      ],
      "metadata": {
        "id": "OZp-hKt3R3ix"
      }
    },
    {
      "cell_type": "code",
      "source": [
        "matriks = [\n",
        "    [1, 2, 3],\n",
        "  \t[4, 5, 6],\n",
        "  \t[7, 8, 9]\n",
        " ]\n",
        "\n",
        "print(matriks[0][0]) # 1\n",
        "print(matriks[1][2]) # 6\n",
        "print(matriks[2])\t# [7, 8, 9]"
      ],
      "metadata": {
        "colab": {
          "base_uri": "https://localhost:8080/"
        },
        "id": "gPKmcA4jSHsp",
        "outputId": "d5cfa28a-b1d2-4d92-cf3d-c1637b61a15b"
      },
      "execution_count": 4,
      "outputs": [
        {
          "output_type": "stream",
          "name": "stdout",
          "text": [
            "1\n",
            "6\n",
            "[7, 8, 9]\n"
          ]
        }
      ]
    },
    {
      "cell_type": "markdown",
      "source": [
        "Praktikum 05 : Operasi pada List 2"
      ],
      "metadata": {
        "id": "odBUWDI3SYpW"
      }
    },
    {
      "cell_type": "code",
      "source": [
        "A = [[1, 2, 3], [4, 5, 6]]\n",
        "B = [[7, 8, 9], [10, 11, 12]]\n",
        "C = []\n",
        "\n",
        "for i in range(len(A)):\n",
        "    baris = []\n",
        "    for j in range(len(A[0])):\n",
        "        baris.append(A[i][j] + B[i][j])\n",
        "    C.append(baris)\n",
        "\n",
        "print(C)"
      ],
      "metadata": {
        "colab": {
          "base_uri": "https://localhost:8080/"
        },
        "id": "Z-si5OSmSeTe",
        "outputId": "d1ebd455-4360-413e-c882-74ae6bf38213"
      },
      "execution_count": 24,
      "outputs": [
        {
          "output_type": "stream",
          "name": "stdout",
          "text": [
            "[[8, 10, 12], [14, 16, 18]]\n"
          ]
        }
      ]
    },
    {
      "cell_type": "markdown",
      "source": [
        "Praktikum 06 : Studi Kasus-Pengelolaan Nilai Mahasiswa"
      ],
      "metadata": {
        "id": "ZHh5ICwzUAW8"
      }
    },
    {
      "cell_type": "code",
      "source": [
        "nilai = [\n",
        "    [80, 90,\t85],\n",
        "    [70, 75,\t80],\n",
        "    [88, 92,\t84]\n",
        "]\n",
        "for i, baris\tin enumerate(nilai, start=1):\n",
        "\trata = sum(baris) / len(baris)\n",
        "\tprint(f\"Rata-rata mahasiswa {i}: {rata:.2f}\")"
      ],
      "metadata": {
        "colab": {
          "base_uri": "https://localhost:8080/"
        },
        "id": "fcj-sS-gV9yQ",
        "outputId": "02fac22b-fcc7-487a-9750-776563981113"
      },
      "execution_count": 28,
      "outputs": [
        {
          "output_type": "stream",
          "name": "stdout",
          "text": [
            "Rata-rata mahasiswa 1: 85.00\n",
            "Rata-rata mahasiswa 2: 75.00\n",
            "Rata-rata mahasiswa 3: 88.00\n"
          ]
        }
      ]
    },
    {
      "cell_type": "markdown",
      "source": [
        "Penugasan 1 : Akses Elemen List"
      ],
      "metadata": {
        "id": "QU0We3llV9od"
      }
    },
    {
      "cell_type": "code",
      "source": [
        "mahasiswa = [\"Andi\", \"Budi\", \"Cici\", \"Dina\", \"Eko\"]\n",
        "print(mahasiswa[0])\n",
        "print(mahasiswa[-1])\n",
        "print(mahasiswa[2])"
      ],
      "metadata": {
        "colab": {
          "base_uri": "https://localhost:8080/"
        },
        "id": "TLrfki1BWoPi",
        "outputId": "07b1e298-0696-44d7-a999-527b053c4ad1"
      },
      "execution_count": 29,
      "outputs": [
        {
          "output_type": "stream",
          "name": "stdout",
          "text": [
            "Andi\n",
            "Eko\n",
            "Cici\n"
          ]
        }
      ]
    },
    {
      "cell_type": "markdown",
      "source": [
        "Penugasan 2 : Operasi Dasar List"
      ],
      "metadata": {
        "id": "bQLg_vfhXQWN"
      }
    },
    {
      "cell_type": "code",
      "source": [
        "nilai = [70, 75, 80]\n",
        "nilai[1] = 85\n",
        "nilai.append(90)\n",
        "nilai.remove(70)\n",
        "print(nilai)"
      ],
      "metadata": {
        "colab": {
          "base_uri": "https://localhost:8080/"
        },
        "id": "S5uPHjR8XPRk",
        "outputId": "9de50ef2-2a49-40b0-a6c0-6bd88b6842a8"
      },
      "execution_count": 30,
      "outputs": [
        {
          "output_type": "stream",
          "name": "stdout",
          "text": [
            "[85, 80, 90]\n"
          ]
        }
      ]
    },
    {
      "cell_type": "markdown",
      "source": [
        "Penugasan 3 : Slicing List"
      ],
      "metadata": {
        "id": "jgXA4bWFX-2B"
      }
    },
    {
      "cell_type": "code",
      "source": [
        "angka = [1, 2, 3, 4, 5, 6, 7, 8, 9, 10]\n",
        "print(angka[:3])\n",
        "print(angka[-4:])\n",
        "print(angka[::2])"
      ],
      "metadata": {
        "colab": {
          "base_uri": "https://localhost:8080/"
        },
        "id": "680AQIflYFQA",
        "outputId": "e36ecab4-6343-48a8-f8fb-17f682eee3ad"
      },
      "execution_count": 34,
      "outputs": [
        {
          "output_type": "stream",
          "name": "stdout",
          "text": [
            "[1, 2, 3]\n",
            "[7, 8, 9, 10]\n",
            "[1, 3, 5, 7, 9]\n"
          ]
        }
      ]
    },
    {
      "cell_type": "markdown",
      "source": [
        "Penugasan 4 : List 2D-Matriks"
      ],
      "metadata": {
        "id": "UieMIwbiYvAZ"
      }
    },
    {
      "cell_type": "code",
      "source": [
        "matriks = [\n",
        "    [1, 2, 3],\n",
        "    [4, 5, 6],\n",
        "    [7, 8, 9]\n",
        "]\n",
        "print(matriks[0][1])\n",
        "print(matriks[1][2])\n",
        "print(matriks[0])"
      ],
      "metadata": {
        "colab": {
          "base_uri": "https://localhost:8080/"
        },
        "id": "gnQL2EEVY1AE",
        "outputId": "4009fb1a-8e8e-4a97-cf29-73bc92f0860b"
      },
      "execution_count": 35,
      "outputs": [
        {
          "output_type": "stream",
          "name": "stdout",
          "text": [
            "2\n",
            "6\n",
            "[1, 2, 3]\n"
          ]
        }
      ]
    },
    {
      "cell_type": "markdown",
      "source": [
        "Penugasan 5 : Operasi Matriks 2D"
      ],
      "metadata": {
        "id": "zjnKaqpdZSHR"
      }
    },
    {
      "cell_type": "code",
      "source": [
        "A = [[1, 2],\n",
        "     [3, 4]]\n",
        "\n",
        "B = [[5, 6],\n",
        "     [7, 8]]\n",
        "\n",
        "C = []\n",
        "\n",
        "for i in range(len(A)):\n",
        "    baris = []\n",
        "    for j in range(len(A[0])):\n",
        "        baris.append(A[i][j] + B[i][j])\n",
        "    C.append(baris)\n",
        "\n",
        "print(C)"
      ],
      "metadata": {
        "colab": {
          "base_uri": "https://localhost:8080/"
        },
        "id": "ae4hsQWwZYeH",
        "outputId": "3668c623-9635-4ffa-e6b3-a4aa12ccff9a"
      },
      "execution_count": 36,
      "outputs": [
        {
          "output_type": "stream",
          "name": "stdout",
          "text": [
            "[[6, 8], [10, 12]]\n"
          ]
        }
      ]
    },
    {
      "cell_type": "markdown",
      "source": [
        "Penugasan 6 : Rata-Rata Nilai Mahasiswa"
      ],
      "metadata": {
        "id": "Kwroe7AKZz01"
      }
    },
    {
      "cell_type": "code",
      "source": [
        "nilai = [\n",
        "    [75, 80, 85],\n",
        "    [60, 70, 65],\n",
        "    [90, 95, 92]\n",
        "]\n",
        "\n",
        "for i, baris in enumerate(nilai, start=1):\n",
        "    rata = sum(baris) / len(baris)\n",
        "    print(f\"Rata-rata mahasiswa {i}: {rata:.2f}\")"
      ],
      "metadata": {
        "colab": {
          "base_uri": "https://localhost:8080/"
        },
        "id": "qMUHTOR3Z4Jp",
        "outputId": "efe32dd2-01fc-4c15-ad20-b49489802726"
      },
      "execution_count": 37,
      "outputs": [
        {
          "output_type": "stream",
          "name": "stdout",
          "text": [
            "Rata-rata mahasiswa 1: 80.00\n",
            "Rata-rata mahasiswa 2: 65.00\n",
            "Rata-rata mahasiswa 3: 92.33\n"
          ]
        }
      ]
    },
    {
      "cell_type": "markdown",
      "source": [
        "Penugasan 7 : Studi kasus - data toko"
      ],
      "metadata": {
        "id": "A7CY3o8zaWde"
      }
    },
    {
      "cell_type": "code",
      "source": [
        "stok = [\n",
        "    [\"Buku\", 20],\n",
        "    [\"Pulpen\", 35],\n",
        "    [\"Penghapus\", 15]\n",
        "]\n",
        "\n",
        "print(\"Daftar Stok Barang:\")\n",
        "for barang in stok:\n",
        "    print(f\"{barang[0]}: {barang[1]}\")\n",
        "\n",
        "terbanyak = stok[0]\n",
        "for barang in stok:\n",
        "    if barang[1] > terbanyak[1]:\n",
        "        terbanyak = barang\n",
        "\n",
        "print(f\"\\nBarang dengan stok terbanyak: {terbanyak[0]} ({terbanyak[1]} buah)\")\n"
      ],
      "metadata": {
        "colab": {
          "base_uri": "https://localhost:8080/"
        },
        "id": "nE2Pb-yOacCG",
        "outputId": "3d0f8a79-b186-4112-de0d-05b38d473852"
      },
      "execution_count": 38,
      "outputs": [
        {
          "output_type": "stream",
          "name": "stdout",
          "text": [
            "Daftar Stok Barang:\n",
            "Buku: 20\n",
            "Pulpen: 35\n",
            "Penghapus: 15\n",
            "\n",
            "Barang dengan stok terbanyak: Pulpen (35 buah)\n"
          ]
        }
      ]
    }
  ]
}