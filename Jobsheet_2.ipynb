{
  "nbformat": 4,
  "nbformat_minor": 0,
  "metadata": {
    "colab": {
      "provenance": [],
      "authorship_tag": "ABX9TyPaJKX30AyvNs1opPt+xqgR",
      "include_colab_link": true
    },
    "kernelspec": {
      "name": "python3",
      "display_name": "Python 3"
    },
    "language_info": {
      "name": "python"
    }
  },
  "cells": [
    {
      "cell_type": "markdown",
      "metadata": {
        "id": "view-in-github",
        "colab_type": "text"
      },
      "source": [
        "<a href=\"https://colab.research.google.com/github/arinda43325104-arch/praktikum-algoritma-pemrograman-1/blob/main/Jobsheet_2.ipynb\" target=\"_parent\"><img src=\"https://colab.research.google.com/assets/colab-badge.svg\" alt=\"Open In Colab\"/></a>"
      ]
    },
    {
      "cell_type": "markdown",
      "source": [
        "Praktikum 1 : pengenalan variabel dan tipe data"
      ],
      "metadata": {
        "id": "77TlMQ1TwFli"
      }
    },
    {
      "cell_type": "code",
      "execution_count": null,
      "metadata": {
        "id": "9anLifyQqbuM",
        "colab": {
          "base_uri": "https://localhost:8080/"
        },
        "outputId": "93421119-29a5-4a69-b976-904faa45b560"
      },
      "outputs": [
        {
          "output_type": "stream",
          "name": "stdout",
          "text": [
            "Umur: 20 -> <class 'int'>\n",
            "Tinggi: 170.5 -> <class 'float'>\n",
            "Nama: Andi -> <class 'str'>\n",
            "Status Mahasiswa: True -> <class 'bool'>\n",
            "Nilai: [80, 85, 90] -> <class 'list'>\n",
            "Koordinat: (10, 20) -> <class 'tuple'>\n",
            "Data Mahasiswa: {'nama': 'Andi', 'Umur': 20, 'prodi': 'TRK'} -> <class 'dict'>\n",
            "Hobi: {'olahraga', 'membaca', 'musik'} -> <class 'set'>\n"
          ]
        }
      ],
      "source": [
        "# Integer\n",
        "umur = 20\n",
        "print(\"Umur:\", umur, \"->\", type (umur))\n",
        "\n",
        "# Float\n",
        "tinggi = 170.5\n",
        "print(\"Tinggi:\", tinggi, \"->\", type(tinggi))\n",
        "\n",
        "# String\n",
        "nama = \"Andi\"\n",
        "print(\"Nama:\", nama, \"->\", type(nama))\n",
        "\n",
        "# Boolean\n",
        "is_mahasiswa = True\n",
        "print(\"Status Mahasiswa:\", is_mahasiswa, \"->\", type(is_mahasiswa))\n",
        "\n",
        "# List\n",
        "nilai = [80, 85, 90]\n",
        "print(\"Nilai:\", nilai, \"->\", type(nilai))\n",
        "\n",
        "# Tuple\n",
        "koordinat = (10, 20)\n",
        "print(\"Koordinat:\", koordinat, \"->\", type(koordinat))\n",
        "\n",
        "# Dictionary\n",
        "mahasiswa = {\"nama\": \"Andi\", \"Umur\": 20, \"prodi\": \"TRK\"}\n",
        "print(\"Data Mahasiswa:\", mahasiswa, \"->\", type(mahasiswa))\n",
        "\n",
        "# Set\n",
        "hobi = {\"membaca\", \"olahraga\", \"musik\"}\n",
        "print(\"Hobi:\", hobi, \"->\", type(hobi))"
      ]
    },
    {
      "cell_type": "markdown",
      "source": [
        "Praktikum 2 : input dan output dasar"
      ],
      "metadata": {
        "id": "tax815L-xCdc"
      }
    },
    {
      "cell_type": "markdown",
      "source": [
        "Praktikum 3 : Operator aritmatika"
      ],
      "metadata": {
        "id": "Iib3yT32AiJl"
      }
    },
    {
      "cell_type": "code",
      "source": [
        "a = 15\n",
        "b = 4\n",
        "\n",
        "print(\"a + b =\", a + b)\n",
        "print(\"a - b =\", a - b)\n",
        "print(\"a * b =\", a * b)\n",
        "print(\"a / b =\", a / b)\n",
        "print(\"a // b =\", a // b)\n",
        "print(\"a % b =\", a % b)\n",
        "print(\"a ** b\", a ** b)"
      ],
      "metadata": {
        "colab": {
          "base_uri": "https://localhost:8080/"
        },
        "id": "TOiE19S-KICp",
        "outputId": "e2898b1d-d63c-4d6f-ce65-0bea69a6a109"
      },
      "execution_count": null,
      "outputs": [
        {
          "output_type": "stream",
          "name": "stdout",
          "text": [
            "a + b = 19\n",
            "a - b = 11\n",
            "a * b = 60\n",
            "a / b = 3.75\n",
            "a // b = 3\n",
            "a % b = 3\n",
            "a ** b 50625\n"
          ]
        }
      ]
    },
    {
      "cell_type": "markdown",
      "source": [
        "Praktikum 4 : Operator relasional"
      ],
      "metadata": {
        "id": "C2R7rOBpEd40"
      }
    },
    {
      "cell_type": "code",
      "source": [
        "x = 10\n",
        "y = 20\n",
        "\n",
        "print(\"x == y :\", x == y)\n",
        "print(\"x != y :\", x != y)\n",
        "print(\"x < y :\", x < y)\n",
        "print(\"x > y :\", x > y)\n",
        "print(\"x <= y :\", x <= y)\n",
        "print(\"x >= y :\", x >= y)"
      ],
      "metadata": {
        "colab": {
          "base_uri": "https://localhost:8080/"
        },
        "id": "10376MGPEowT",
        "outputId": "2a7cd5a7-00ae-4535-d025-93f7db50538c"
      },
      "execution_count": null,
      "outputs": [
        {
          "output_type": "stream",
          "name": "stdout",
          "text": [
            "x == y : False\n",
            "x != y : True\n",
            "x < y : True\n",
            "x > y : False\n",
            "x <= y : True\n",
            "x >= y : False\n"
          ]
        }
      ]
    },
    {
      "cell_type": "markdown",
      "source": [
        "Praktikum 5 : Operator logika dengan studi kasus nyata"
      ],
      "metadata": {
        "id": "7iT24Ai6HyML"
      }
    },
    {
      "cell_type": "code",
      "source": [
        "# Operator logika dasar\n",
        "a = True\n",
        "b = False\n",
        "\n",
        "print(\"a and b =\", a and b)\n",
        "print(\"a or b =\", a or b)\n",
        "print(\"not a =\", not a)\n",
        "\n",
        "# Studi kasus nyata: kelulusan\n",
        "nilai = int(input(\"Masukkan nilai ujian:\"))\n",
        "hadir = int(input(\"Masukkan jumlah kehadiran: \"))\n",
        "\n",
        "lulus_nilai = nilai >= 60\n",
        "lulus_hadir = hadir >= 12 # dari 16 pertemuan\n",
        "\n",
        "if lulus_nilai and lulus_hadir:\n",
        "  print(\"Status: LULUS\")\n",
        "else:\n",
        "  print(\"Status: TIDAK LULUS\")"
      ],
      "metadata": {
        "colab": {
          "base_uri": "https://localhost:8080/"
        },
        "id": "lWltGuksEvyz",
        "outputId": "ce6f821f-34ab-4b08-f4d2-e4e2a6debee9"
      },
      "execution_count": null,
      "outputs": [
        {
          "output_type": "stream",
          "name": "stdout",
          "text": [
            "a and b = False\n",
            "a or b = True\n",
            "not a = False\n",
            "Masukkan nilai ujian:80\n",
            "Masukkan jumlah kehadiran: 13\n",
            "Status: LULUS\n"
          ]
        }
      ]
    },
    {
      "cell_type": "markdown",
      "source": [
        "Praktikum 6 : Program kasir sederhana"
      ],
      "metadata": {
        "id": "FOEP9dwML1I5"
      }
    },
    {
      "cell_type": "code",
      "source": [
        "barang = input(\"Masukkan nama barang: \")\n",
        "harga = float(input(\"Masukkan harga barang: \"))\n",
        "jumlah = int(input(\"Masukkan jumlah barang: \"))\n",
        "\n",
        "total = harga * jumlah\n",
        "\n",
        "# Aturan diskon\n",
        "if total >= 500000:\n",
        "  diskon = 0.2\n",
        "elif total >= 250000:\n",
        "  diskon = 0.1\n",
        "else:\n",
        "  diskon = 0\n",
        "\n",
        "potongan = total * diskon\n",
        "bayar = total - potongan\n",
        "\n",
        "print(\"\\n===== Struk Belanja =====\")\n",
        "print(f\"Barang  : {barang}\")\n",
        "print(f\"Jumlah  : {jumlah}\")\n",
        "print(f\"Total   : Rp {total}\")\n",
        "print(f\"Diskon  : {diskon * 100}%\")\n",
        "print(f\"Bayar   : Rp {bayar}\")"
      ],
      "metadata": {
        "colab": {
          "base_uri": "https://localhost:8080/"
        },
        "id": "1qlkRjgEL_kf",
        "outputId": "00046a9b-cfcc-44a4-c45d-daba4fca7f0b"
      },
      "execution_count": null,
      "outputs": [
        {
          "output_type": "stream",
          "name": "stdout",
          "text": [
            "Masukkan nama barang: Make up\n",
            "Masukkan harga barang: 200000\n",
            "Masukkan jumlah barang: 3\n",
            "\n",
            "===== Struk Belanja =====\n",
            "Barang  : Make up\n",
            "Jumlah  : 3\n",
            "Total   : Rp 600000.0\n",
            "Diskon  : 20.0%\n",
            "Bayar   : Rp 480000.0\n"
          ]
        }
      ]
    },
    {
      "cell_type": "markdown",
      "source": [
        "Penugasan 1 : Identitas mahasiswa"
      ],
      "metadata": {
        "id": "3yND-ANhShfw"
      }
    },
    {
      "cell_type": "code",
      "source": [
        "# String\n",
        "nama = \"Arinda\"\n",
        "print(\"Nama:\", nama, \"->\", type(nama))\n",
        "\n",
        "#Integer\n",
        "umur = 18\n",
        "print(\"Umur:\", umur, \"->\", type(umur))\n",
        "\n",
        "# Float\n",
        "tinggi = 158.5\n",
        "print(\"Tinggi:\", tinggi, \"->\", type(tinggi))\n",
        "\n",
        "# Boolean\n",
        "is_mahasiswa = True\n",
        "print(\" Status Mahasiswa:\", is_mahasiswa, \"->\", type(is_mahasiswa))"
      ],
      "metadata": {
        "colab": {
          "base_uri": "https://localhost:8080/"
        },
        "id": "rQqpBaxBSli9",
        "outputId": "fdc42fd8-5bfb-4e57-8ded-a38c346fcb0b"
      },
      "execution_count": null,
      "outputs": [
        {
          "output_type": "stream",
          "name": "stdout",
          "text": [
            "Nama: Arinda -> <class 'str'>\n",
            "Umur: 18 -> <class 'int'>\n",
            "Tinggi: 158.5 -> <class 'float'>\n",
            " Status Mahasiswa: True -> <class 'bool'>\n"
          ]
        }
      ]
    },
    {
      "cell_type": "markdown",
      "source": [
        "Penugasan 2 : Operasi aritmatika"
      ],
      "metadata": {
        "id": "-MuUSWxeUlJx"
      }
    },
    {
      "cell_type": "code",
      "source": [
        "a = 8\n",
        "b = 2\n",
        "\n",
        "print(f\"Penjumlahan       : {a + b}\")\n",
        "print(f\"Pengurangan       : {a - b}\")\n",
        "print(f\"Perkalian         : {a * b}\")\n",
        "print(f\"Pembagian         : {a / b}\")\n",
        "print(f\"Sisa Bagi         : {a % b}\")\n",
        "print(f\"Perpangkatan      : {a ** b}\")"
      ],
      "metadata": {
        "colab": {
          "base_uri": "https://localhost:8080/"
        },
        "id": "n_67i_hpUrLQ",
        "outputId": "0081d2b1-9d50-435d-ec38-cd1c5a59451c"
      },
      "execution_count": null,
      "outputs": [
        {
          "output_type": "stream",
          "name": "stdout",
          "text": [
            "Penjumlahan       : 10\n",
            "Pengurangan       : 6\n",
            "Perkalian         : 16\n",
            "Pembagian         : 4.0\n",
            "Sisa Bagi         : 0\n",
            "Perpangkatan      : 64\n"
          ]
        }
      ]
    },
    {
      "cell_type": "markdown",
      "source": [
        "Penugasan 3 : Konversi nilai"
      ],
      "metadata": {
        "id": "VMGIVWyAVAtH"
      }
    },
    {
      "cell_type": "code",
      "source": [
        "angka = 275\n",
        "\n",
        "print(f\"Sebagai integer : {int(275)}\")\n",
        "print(f\"Sebagai string  : '{str(275)}'\")\n",
        "print(f\"Dibulatkan (2 digit): {round(275, 2)}\")"
      ],
      "metadata": {
        "id": "wHvsnwSOVHEv",
        "colab": {
          "base_uri": "https://localhost:8080/"
        },
        "outputId": "1e4b7d24-880b-4fda-87e8-4ff56982d353"
      },
      "execution_count": null,
      "outputs": [
        {
          "output_type": "stream",
          "name": "stdout",
          "text": [
            "Sebagai integer : 275\n",
            "Sebagai string  : '275'\n",
            "Dibulatkan (2 digit): 275\n"
          ]
        }
      ]
    },
    {
      "cell_type": "markdown",
      "source": [
        "Penugasan 4 : Operator relasional"
      ],
      "metadata": {
        "id": "orQVCpYT7wZz"
      }
    },
    {
      "cell_type": "code",
      "source": [
        "x = 50\n",
        "y = 2\n",
        "\n",
        "print(\"x == y :\", x == y)\n",
        "print(\"x != y :\", x != y)\n",
        "print(\"x < y :\", x < y)\n",
        "print(\"x > y :\", x > y)\n",
        "print(\"x <= y :\", x <= y)\n",
        "print(\"x >= y :\", x >= y)"
      ],
      "metadata": {
        "colab": {
          "base_uri": "https://localhost:8080/"
        },
        "id": "YSxwRJmx73X6",
        "outputId": "f3e7e6b2-37c1-4d1b-9a59-8691b1a1e002"
      },
      "execution_count": null,
      "outputs": [
        {
          "output_type": "stream",
          "name": "stdout",
          "text": [
            "x == y : False\n",
            "x != y : True\n",
            "x < y : False\n",
            "x > y : True\n",
            "x <= y : False\n",
            "x >= y : True\n"
          ]
        }
      ]
    }
  ]
}