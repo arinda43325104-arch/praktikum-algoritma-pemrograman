{
  "nbformat": 4,
  "nbformat_minor": 0,
  "metadata": {
    "colab": {
      "provenance": [],
      "authorship_tag": "ABX9TyOnwHG66qWzb9Gw3u5wxX+5",
      "include_colab_link": true
    },
    "kernelspec": {
      "name": "python3",
      "display_name": "Python 3"
    },
    "language_info": {
      "name": "python"
    }
  },
  "cells": [
    {
      "cell_type": "markdown",
      "metadata": {
        "id": "view-in-github",
        "colab_type": "text"
      },
      "source": [
        "<a href=\"https://colab.research.google.com/github/arinda43325104-arch/praktikum-algoritma-pemrograman/blob/main/Praktikum%205_Algoritma%20Pemograman_Pak%20prayit.ipynb\" target=\"_parent\"><img src=\"https://colab.research.google.com/assets/colab-badge.svg\" alt=\"Open In Colab\"/></a>"
      ]
    },
    {
      "cell_type": "markdown",
      "source": [
        "Praktikum 1 : Indexing dan Slicing"
      ],
      "metadata": {
        "id": "2aaLihoEuKJX"
      }
    },
    {
      "cell_type": "code",
      "execution_count": 10,
      "metadata": {
        "id": "FurhSAUomAsb",
        "colab": {
          "base_uri": "https://localhost:8080/"
        },
        "outputId": "5549d4ba-653c-4667-8b6c-f09a50676bc0"
      },
      "outputs": [
        {
          "output_type": "stream",
          "name": "stdout",
          "text": [
            "P\n",
            "Politeknik \n",
            "Semarang\n"
          ]
        }
      ],
      "source": [
        "teks = \"Politeknik Negeri Semarang\"\n",
        "print(teks[0])\t  # 'P'\n",
        "print(teks[0:11])\t# 'Politeknik'\n",
        "print(teks[-8:])\t# 'Semarang'"
      ]
    },
    {
      "cell_type": "markdown",
      "source": [
        "Praktikum 2 : Method Bawaan String"
      ],
      "metadata": {
        "id": "Pcj5DvdPv_hY"
      }
    },
    {
      "cell_type": "code",
      "source": [
        "teks = \" Politeknik Negeri Semarang \"\n",
        "print(teks.upper())\n",
        "print(teks.lower())\n",
        "print(teks.title())\n",
        "print(teks.strip())\n",
        "print(teks.split(\" \"))\n",
        "print(\"-\".join([\"Politeknik\",\"Negeri\",\"Semarang\"]))"
      ],
      "metadata": {
        "colab": {
          "base_uri": "https://localhost:8080/"
        },
        "id": "Zdm6pyJAwE_m",
        "outputId": "af02e14b-0788-41d3-eb2e-16eabac64366"
      },
      "execution_count": null,
      "outputs": [
        {
          "output_type": "stream",
          "name": "stdout",
          "text": [
            " POLITEKNIK NEGERI SEMARANG \n",
            " politeknik negeri semarang \n",
            " Politeknik Negeri Semarang \n",
            "Politeknik Negeri Semarang\n",
            "['', 'Politeknik', 'Negeri', 'Semarang', '']\n",
            "Politeknik-Negeri-Semarang\n"
          ]
        }
      ]
    },
    {
      "cell_type": "markdown",
      "source": [
        "Praktikum 3 : Validasi Password"
      ],
      "metadata": {
        "id": "ZrA_qWur1Nww"
      }
    },
    {
      "cell_type": "code",
      "source": [
        "password = input(\"Masukkan password: \")\n",
        "\n",
        "if len(password) >= 8:\n",
        "  print(\"Password valid\")\n",
        "else:\n",
        "  print(\"Password terlalu pendek\")"
      ],
      "metadata": {
        "colab": {
          "base_uri": "https://localhost:8080/"
        },
        "id": "p2oOadnU1bKW",
        "outputId": "47507c21-80f6-445e-ebc1-96f62dfef97f"
      },
      "execution_count": 11,
      "outputs": [
        {
          "output_type": "stream",
          "name": "stdout",
          "text": [
            "Masukkan password: python123\n",
            "Password valid\n"
          ]
        }
      ]
    },
    {
      "cell_type": "code",
      "source": [
        "password = input(\"Masukkan password: \")\n",
        "\n",
        "if len(password) >= 8:\n",
        "  print(\"Password valid\")\n",
        "else:\n",
        "  print(\"Password terlalu pendek\")"
      ],
      "metadata": {
        "colab": {
          "base_uri": "https://localhost:8080/"
        },
        "id": "QBzfOLkL7Bkc",
        "outputId": "4103c828-47ef-42fe-919d-a832f23116b2"
      },
      "execution_count": 12,
      "outputs": [
        {
          "output_type": "stream",
          "name": "stdout",
          "text": [
            "Masukkan password: abc\n",
            "Password terlalu pendek\n"
          ]
        }
      ]
    },
    {
      "cell_type": "markdown",
      "source": [
        "Praktikum 4 : String Formatting dengan F-String"
      ],
      "metadata": {
        "id": "xWMNX0EX5X1A"
      }
    },
    {
      "cell_type": "code",
      "source": [
        "nama = input(\"Masukkan nama: \")\n",
        "umur = int(input(\"Masukkan umur: \"))\n",
        "\n",
        "print(f\"Nama saya {nama}, umur {umur} tahun.\")"
      ],
      "metadata": {
        "colab": {
          "base_uri": "https://localhost:8080/"
        },
        "id": "MI8stzXe5dz7",
        "outputId": "6fba2163-1069-419b-8a0c-f1f7b2a6f8e8"
      },
      "execution_count": 13,
      "outputs": [
        {
          "output_type": "stream",
          "name": "stdout",
          "text": [
            "Masukkan nama: Budi\n",
            "Masukkan umur: 21\n",
            "Nama saya Budi, umur 21 tahun.\n"
          ]
        }
      ]
    },
    {
      "cell_type": "markdown",
      "source": [
        "Praktikum 5 : Operasi dalam F-String"
      ],
      "metadata": {
        "id": "0-x89ch-7gzi"
      }
    },
    {
      "cell_type": "code",
      "source": [
        "a = int(input(\"Masukkan nilai a: \"))\n",
        "b = int(input(\"Masukkan nilai b: \"))\n",
        "\n",
        "print(f\"Hasil penjumlahan {a}+{b} = {a+b}\")\n",
        "print(f\"Hasil pembagian {a}/{b} = {a/b:.2f}\")"
      ],
      "metadata": {
        "colab": {
          "base_uri": "https://localhost:8080/"
        },
        "id": "Z736oJcA7lN4",
        "outputId": "368d2a97-e20e-4b78-cd83-7b46aa4290de"
      },
      "execution_count": 14,
      "outputs": [
        {
          "output_type": "stream",
          "name": "stdout",
          "text": [
            "Masukkan nilai a: 10\n",
            "Masukkan nilai b: 3\n",
            "Hasil penjumlahan 10+3 = 13\n",
            "Hasil pembagian 10/3 = 3.33\n"
          ]
        }
      ]
    },
    {
      "cell_type": "markdown",
      "source": [
        "Praktikum 6 ; Casting String"
      ],
      "metadata": {
        "id": "IDkzcbaL7yuv"
      }
    },
    {
      "cell_type": "code",
      "source": [
        "angka = 123\n",
        "teks = \"456\"\n",
        "\n",
        "print(\"Nilai: \" + str(angka))\n",
        "print(int(teks) + 10)"
      ],
      "metadata": {
        "colab": {
          "base_uri": "https://localhost:8080/"
        },
        "id": "EUklHB8t72Uu",
        "outputId": "01d97a5a-6868-400c-89fb-45f0d56155eb"
      },
      "execution_count": 19,
      "outputs": [
        {
          "output_type": "stream",
          "name": "stdout",
          "text": [
            "Nilai: 123\n",
            "466\n"
          ]
        }
      ]
    },
    {
      "cell_type": "markdown",
      "source": [
        "Praktikum 7 : Studi Kasus Nyata - Analisis Kalimat"
      ],
      "metadata": {
        "id": "kTucg6K58E-8"
      }
    },
    {
      "cell_type": "code",
      "source": [
        "kalimat = \"Saya kuliah di Politeknik Negeri Semarang\"\n",
        "daftar_kata = kalimat.split(\" \")\n",
        "\n",
        "print(f\"Jumlah kata: {len(daftar_kata)}\")\n",
        "for i, kata in enumerate(daftar_kata, start=1):\n",
        "    print(i, kata)"
      ],
      "metadata": {
        "colab": {
          "base_uri": "https://localhost:8080/"
        },
        "id": "W-9hen_s8LZr",
        "outputId": "93ae1662-0590-4204-dcba-9b1a555660af"
      },
      "execution_count": 22,
      "outputs": [
        {
          "output_type": "stream",
          "name": "stdout",
          "text": [
            "Jumlah kata: 6\n",
            "1 Saya\n",
            "2 kuliah\n",
            "3 di\n",
            "4 Politeknik\n",
            "5 Negeri\n",
            "6 Semarang\n"
          ]
        }
      ]
    },
    {
      "cell_type": "markdown",
      "source": [
        "Penugasan 1 : Indexing dan Slicing"
      ],
      "metadata": {
        "id": "jisoTMGa92cc"
      }
    },
    {
      "cell_type": "code",
      "source": [
        "teks = \"Politeknik Negeri Semarang\"\n",
        "print(teks[0])\t  # 'P'\n",
        "print(teks[-1])\t# 'g'\n",
        "print(teks[11:17])\t# 'Negeri'"
      ],
      "metadata": {
        "colab": {
          "base_uri": "https://localhost:8080/"
        },
        "id": "SmbINTL298Hu",
        "outputId": "d8381785-bbd0-48c2-8ed3-7843c47e7643"
      },
      "execution_count": 23,
      "outputs": [
        {
          "output_type": "stream",
          "name": "stdout",
          "text": [
            "P\n",
            "g\n",
            "Negeri\n"
          ]
        }
      ]
    },
    {
      "cell_type": "markdown",
      "source": [
        "Penugasan 2 : Manipulasi String"
      ],
      "metadata": {
        "id": "lht5a1tOAKDx"
      }
    },
    {
      "cell_type": "code",
      "source": [
        "teks = input(\"Masukkan sebuah kalimat: \")\n",
        "print(\"Huruf kapital  :\", teks.upper())\n",
        "print(\"Huruf kecil    :\", teks.lower())\n",
        "print(\"Panjang kalimat:\", len(teks))"
      ],
      "metadata": {
        "colab": {
          "base_uri": "https://localhost:8080/"
        },
        "id": "zivINwAPARps",
        "outputId": "d2ddc03a-c089-42b1-b85e-92be6f7aa2a9"
      },
      "execution_count": 24,
      "outputs": [
        {
          "output_type": "stream",
          "name": "stdout",
          "text": [
            "Masukkan sebuah kalimat: Arinda Keren Betul\n",
            "Huruf kapital  : ARINDA KEREN BETUL\n",
            "Huruf kecil    : arinda keren betul\n",
            "Panjang kalimat: 18\n"
          ]
        }
      ]
    },
    {
      "cell_type": "markdown",
      "source": [
        "Penugasan 3 : Validasi Username"
      ],
      "metadata": {
        "id": "XVikvLWXA2Oj"
      }
    },
    {
      "cell_type": "code",
      "source": [
        "username = input(\"Masukkan username: \")\n",
        "if \" \" in username:\n",
        "    print(\"Error: Username tidak boleh mengandung spasi!\")\n",
        "else:\n",
        "    print(\"Username valid.\")"
      ],
      "metadata": {
        "colab": {
          "base_uri": "https://localhost:8080/"
        },
        "id": "_6SxwpA_A5_C",
        "outputId": "863b303e-4c25-49f1-e096-c11ddc4cebf4"
      },
      "execution_count": 25,
      "outputs": [
        {
          "output_type": "stream",
          "name": "stdout",
          "text": [
            "Masukkan username: arindacakep\n",
            "Username valid.\n"
          ]
        }
      ]
    },
    {
      "cell_type": "markdown",
      "source": [
        "Penugasan 4 : String Fromatting dengan F-String"
      ],
      "metadata": {
        "id": "fgT9Y1AIBQob"
      }
    },
    {
      "cell_type": "code",
      "source": [
        "print(f\"Nama     : {nama}\")\n",
        "print(f\"Umur     : {umur}\")\n",
        "print(f\"Jurusan  : {jurusan}\")"
      ],
      "metadata": {
        "colab": {
          "base_uri": "https://localhost:8080/"
        },
        "id": "C0u8tuZtBXSM",
        "outputId": "81e118f2-4c12-4fea-aa48-551030355133"
      },
      "execution_count": 28,
      "outputs": [
        {
          "output_type": "stream",
          "name": "stdout",
          "text": [
            "Nama     : Andi\n",
            "Umur     : 20\n",
            "Jurusan  : Teknologi Rekayasa Komputer\n"
          ]
        }
      ]
    },
    {
      "cell_type": "markdown",
      "source": [
        "Penugasan 5 : Operasi dalam F-String"
      ],
      "metadata": {
        "id": "XCrjtmlbCT7I"
      }
    },
    {
      "cell_type": "code",
      "source": [
        "a = int(input(\"Masukkan bilangan pertama: \"))\n",
        "b = int(input(\"Masukkan bilangan kedua: \"))\n",
        "print(f\"Hasil penjumlahan {a} + {b} = {a + b}\")\n",
        "print(f\"Hasil perkalian   {a} × {b} = {a * b}\")\n",
        "print(f\"Hasil pembagian   {a} / {b} = {a / b:.3f}\")"
      ],
      "metadata": {
        "colab": {
          "base_uri": "https://localhost:8080/"
        },
        "id": "bJg6M9TaCbgN",
        "outputId": "c6245074-e967-448f-db16-4e931b417111"
      },
      "execution_count": 30,
      "outputs": [
        {
          "output_type": "stream",
          "name": "stdout",
          "text": [
            "Masukkan bilangan pertama: 23\n",
            "Masukkan bilangan kedua: 21\n",
            "Hasil penjumlahan 23 + 21 = 44\n",
            "Hasil perkalian   23 × 21 = 483\n",
            "Hasil pembagian   23 / 21 = 1.095\n"
          ]
        }
      ]
    },
    {
      "cell_type": "markdown",
      "source": [
        "Penugasan 6 : Casting Data"
      ],
      "metadata": {
        "id": "9dmlUCamC3x7"
      }
    },
    {
      "cell_type": "code",
      "source": [
        "angka = input(\"Masukkan sebuah angka: \")\n",
        "angka_int = int(angka)\n",
        "print(\"Hasil kuadrat:\", angka_int ** 2)\n",
        "angka_float = float(angka)\n",
        "print(f\"Angka dalam bentuk float: {angka_float:.2f}\")"
      ],
      "metadata": {
        "colab": {
          "base_uri": "https://localhost:8080/"
        },
        "id": "QYccWmXtC-Z0",
        "outputId": "5c676889-6702-476c-de8e-0eb2e95b71e3"
      },
      "execution_count": 36,
      "outputs": [
        {
          "output_type": "stream",
          "name": "stdout",
          "text": [
            "Masukkan sebuah angka: 7\n",
            "Hasil kuadrat: 49\n",
            "Angka dalam bentuk float: 7.00\n"
          ]
        }
      ]
    },
    {
      "cell_type": "markdown",
      "source": [
        "Penugasan 7 : Studi kasus-Analisi Teks"
      ],
      "metadata": {
        "id": "9oqrJ4HkEVZr"
      }
    },
    {
      "cell_type": "code",
      "source": [
        "kalimat = input(\"Masukkan sebuah kalimat: \")\n",
        "daftar_kata = kalimat.split()\n",
        "print(f\"Jumlah kata: {len(daftar_kata)}\")\n",
        "kata_terpanjang = max(daftar_kata, key=len)\n",
        "print(f\"Kata terpanjang: {kata_terpanjang}\")\n",
        "print(\"Daftar kata (urut abjad):\")\n",
        "for kata in sorted(daftar_kata):\n",
        "    print(kata)"
      ],
      "metadata": {
        "colab": {
          "base_uri": "https://localhost:8080/"
        },
        "id": "ilJaV96EExrF",
        "outputId": "3596e07d-f39e-43d6-b578-02d289b9348e"
      },
      "execution_count": 37,
      "outputs": [
        {
          "output_type": "stream",
          "name": "stdout",
          "text": [
            "Masukkan sebuah kalimat: Saya kuliah di Politeknik Negeri Semarang\n",
            "Jumlah kata: 6\n",
            "Kata terpanjang: Politeknik\n",
            "Daftar kata (urut abjad):\n",
            "Negeri\n",
            "Politeknik\n",
            "Saya\n",
            "Semarang\n",
            "di\n",
            "kuliah\n"
          ]
        }
      ]
    }
  ]
}