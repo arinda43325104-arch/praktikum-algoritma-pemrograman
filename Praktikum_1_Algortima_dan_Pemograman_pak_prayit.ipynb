{
  "nbformat": 4,
  "nbformat_minor": 0,
  "metadata": {
    "colab": {
      "provenance": [],
      "authorship_tag": "ABX9TyOgBFf9/KzhH8Qj98efCStq",
      "include_colab_link": true
    },
    "kernelspec": {
      "name": "python3",
      "display_name": "Python 3"
    },
    "language_info": {
      "name": "python"
    }
  },
  "cells": [
    {
      "cell_type": "markdown",
      "metadata": {
        "id": "view-in-github",
        "colab_type": "text"
      },
      "source": [
        "<a href=\"https://colab.research.google.com/github/arinda43325104-arch/praktikum-algoritma-pemrograman-1/blob/main/Praktikum_1_Algortima_dan_Pemograman_pak_prayit.ipynb\" target=\"_parent\"><img src=\"https://colab.research.google.com/assets/colab-badge.svg\" alt=\"Open In Colab\"/></a>"
      ]
    },
    {
      "cell_type": "markdown",
      "source": [
        "Praktikum 01. Menghitung Luas Persegi Panjang"
      ],
      "metadata": {
        "id": "94NRFw2sRP4O"
      }
    },
    {
      "cell_type": "code",
      "source": [
        "p = int(input(\"Masukkan panjang: \"))\n",
        "l = int(input(\"Masukkan lebar: \"))\n",
        "luas = p * l\n",
        "print(\"Luas persegi panjang =\", luas)"
      ],
      "metadata": {
        "colab": {
          "base_uri": "https://localhost:8080/"
        },
        "collapsed": true,
        "id": "GScKtXnpRZDx",
        "outputId": "de70650d-394f-4b99-a30e-ea2220c4414b"
      },
      "execution_count": null,
      "outputs": [
        {
          "output_type": "stream",
          "name": "stdout",
          "text": [
            "Masukkan panjang: 24\n",
            "Masukkan lebar: 12\n",
            "Luas persegi panjang = 288\n"
          ]
        }
      ]
    },
    {
      "cell_type": "markdown",
      "source": [
        "Praktikum 02. Menghitung Luas Segitiga"
      ],
      "metadata": {
        "id": "KZ5-J_5kVKtz"
      }
    },
    {
      "cell_type": "code",
      "source": [
        "import math\n",
        "\n",
        "a = float(input(\"Masukkan sisi a: \"))\n",
        "b = float(input(\"Masukkan sisi b: \"))\n",
        "c = float(input(\"Masukkan sisi c: \"))\n",
        "\n",
        "s = (a + b + c) / 2\n",
        "luas = math.sqrt (s * (s - a) * (s - b) * (s - c))\n",
        "print(\"Luas segitiga =\", luas)"
      ],
      "metadata": {
        "colab": {
          "base_uri": "https://localhost:8080/"
        },
        "id": "ukUqonOkTc4m",
        "outputId": "8e03e4e3-1474-4ac9-87b8-31b9b4571adc"
      },
      "execution_count": null,
      "outputs": [
        {
          "output_type": "stream",
          "name": "stdout",
          "text": [
            "Masukkan sisi a: 3\n",
            "Masukkan sisi b: 4\n",
            "Masukkan sisi c: 5\n",
            "Luas segitiga = 6.0\n"
          ]
        }
      ]
    },
    {
      "cell_type": "markdown",
      "source": [
        "Praktikum 03. Konversi Suhu Celcius ke Fahrenheit"
      ],
      "metadata": {
        "id": "IWLmEQiV14QQ"
      }
    },
    {
      "cell_type": "code",
      "source": [
        "c = float(input(\"Masukkan suhu (C): \"))\n",
        "f = (c * 9/5) + 32\n",
        "print(\"Hasil konversi =\", f, \"F\")"
      ],
      "metadata": {
        "colab": {
          "base_uri": "https://localhost:8080/"
        },
        "id": "ywa_MySQYNL-",
        "outputId": "8f3eeec4-2f13-41db-fc34-4dff9c2ee0ae"
      },
      "execution_count": null,
      "outputs": [
        {
          "output_type": "stream",
          "name": "stdout",
          "text": [
            "Masukkan suhu (C): 12\n",
            "Hasil konversi = 53.6 F\n"
          ]
        }
      ]
    },
    {
      "cell_type": "markdown",
      "source": [
        "Praktikum 04. Menghitung Umur Berdasarkan Tahun Lahir"
      ],
      "metadata": {
        "id": "3duD0BepVkPz"
      }
    },
    {
      "cell_type": "code",
      "source": [
        "tahun_lahir = int(input(\"Masukkan tahun lahir: \"))\n",
        "tahun_sekarang = 2025\n",
        "umur = tahun_sekarang - tahun_lahir\n",
        "print(\"Umur anda =\", umur, \"tahun\")"
      ],
      "metadata": {
        "colab": {
          "base_uri": "https://localhost:8080/"
        },
        "id": "wzbLu_4qbsVK",
        "outputId": "b89a7bbe-9951-448e-c672-a47d49126a61"
      },
      "execution_count": null,
      "outputs": [
        {
          "output_type": "stream",
          "name": "stdout",
          "text": [
            "Masukkan tahun lahir: 2007\n",
            "Umur anda = 18 tahun\n"
          ]
        }
      ]
    },
    {
      "cell_type": "markdown",
      "source": [
        "Praktikum 05. Menghitung Luas Lingkaran"
      ],
      "metadata": {
        "id": "HrUMkCtTeNGM"
      }
    },
    {
      "cell_type": "code",
      "source": [
        "import math\n",
        "r = float (input(\"Masukkan jari-jari lingkaran: \"))\n",
        "luas = math.pi * r * r\n",
        "print(\"Luas lingkaran =\", luas)"
      ],
      "metadata": {
        "colab": {
          "base_uri": "https://localhost:8080/"
        },
        "id": "UKildiokftqv",
        "outputId": "af5b3a73-b2a3-42e1-dfcb-958d210a157c"
      },
      "execution_count": null,
      "outputs": [
        {
          "output_type": "stream",
          "name": "stdout",
          "text": [
            "Masukkan jari-jari lingkaran: 49\n",
            "Luas lingkaran = 7542.963961269093\n"
          ]
        }
      ]
    },
    {
      "cell_type": "markdown",
      "source": [
        "Praktikum 06. Menghitung 3 bilangan"
      ],
      "metadata": {
        "id": "9GgEL5ozkscX"
      }
    },
    {
      "cell_type": "code",
      "source": [
        "a = int(input(\"Masukkan bilangan pertama: \"))\n",
        "b = int(input(\"Masukkan bilangan kedua: \"))\n",
        "c = int(input(\"Masukkan bilangan ketiga: \"))\n",
        "jumlah = a + b + c\n",
        "print(\"jumlah =\", jumlah)"
      ],
      "metadata": {
        "colab": {
          "base_uri": "https://localhost:8080/"
        },
        "id": "6VxIoTa-kfLT",
        "outputId": "488fa7e7-c0f8-4739-91bd-76c111aa9661"
      },
      "execution_count": null,
      "outputs": [
        {
          "output_type": "stream",
          "name": "stdout",
          "text": [
            "Masukkan bilangan pertama: 23\n",
            "Masukkan bilangan kedua: 67\n",
            "Masukkan bilangan ketiga: 1\n",
            "jumlah = 91\n"
          ]
        }
      ]
    },
    {
      "cell_type": "markdown",
      "source": [
        "Penugasan 01. Menghitung Volume Balok"
      ],
      "metadata": {
        "id": "IVimZRLQ2j8x"
      }
    },
    {
      "cell_type": "code",
      "source": [
        "p = int(input(\"Masukkan panjang: \"))\n",
        "l = int(input(\"Masukkan lebar: \"))\n",
        "t = int(input(\"Masukkan tinggi: \"))\n",
        "volume = p * l * t\n",
        "print(\"volume balok =\", volume)"
      ],
      "metadata": {
        "id": "sBDLyrQx2pbm",
        "colab": {
          "base_uri": "https://localhost:8080/"
        },
        "outputId": "0e9debf7-f959-419c-d327-072c79e4ee4f"
      },
      "execution_count": null,
      "outputs": [
        {
          "output_type": "stream",
          "name": "stdout",
          "text": [
            "Masukkan panjang: 3\n",
            "Masukkan lebar: 4\n",
            "Masukkan tinggi: 5\n",
            "volume balok = 60\n"
          ]
        }
      ]
    },
    {
      "cell_type": "markdown",
      "source": [
        "Penugasan 02. Menghitung Konversi Waktu"
      ],
      "metadata": {
        "id": "c_2kt1xLVKxg"
      }
    },
    {
      "cell_type": "code",
      "source": [
        "detik = float(input(\"Masukkan detik : \"))\n",
        "menit = 0\n",
        "jam = 0\n",
        "jam += detik // 3600\n",
        "detik %= 3600\n",
        "menit += detik // 60\n",
        "detik %= 60\n",
        "print(f\" {jam} Jam {menit} Menit {detik} Detik\")"
      ],
      "metadata": {
        "id": "l60-stoH5ESA",
        "colab": {
          "base_uri": "https://localhost:8080/"
        },
        "outputId": "91d24ab1-b878-43ad-bea1-3ac70a9b9e0f"
      },
      "execution_count": 14,
      "outputs": [
        {
          "output_type": "stream",
          "name": "stdout",
          "text": [
            "Masukkan detik : 3670\n",
            " 1.0 Jam 1.0 Menit 10.0 Detik\n"
          ]
        }
      ]
    },
    {
      "cell_type": "markdown",
      "source": [
        "Penugasan 03. Menghitung Nilai Tiga Mata Kuliah"
      ],
      "metadata": {
        "id": "EBUdfA7wilP3"
      }
    },
    {
      "cell_type": "code",
      "source": [
        "nilai1 = int(input(\"Masukkan nilai1: \"))\n",
        "nilai2 = int(input(\"Masukkan nilai2: \"))\n",
        "nilai3 = int(input(\"Masukkan nilai3: \"))\n",
        "rata = (nilai1 + nilai2 + nilai3) / 3\n",
        "print(\"rata-rata: \", rata)\n",
        "if rata >= 60:\n",
        "  print(\"keterangan: lulus\")\n",
        "else:\n",
        "  print(\"keterangan: tidak lulus\")"
      ],
      "metadata": {
        "colab": {
          "base_uri": "https://localhost:8080/"
        },
        "id": "U8_vh8xGX73y",
        "outputId": "250421e8-ef60-4b0b-a50d-0ea6aaf0f50f"
      },
      "execution_count": 16,
      "outputs": [
        {
          "output_type": "stream",
          "name": "stdout",
          "text": [
            "Masukkan nilai1: 45\n",
            "Masukkan nilai2: 50\n",
            "Masukkan nilai3: 70\n",
            "rata-rata:  55.0\n",
            "keterangan: tidak lulus\n"
          ]
        }
      ]
    },
    {
      "cell_type": "markdown",
      "source": [
        "Penugasan 04. Menghitung Diskon Belanja"
      ],
      "metadata": {
        "id": "e8d9BPexvNoX"
      }
    },
    {
      "cell_type": "code",
      "source": [
        "total_belanja = float(input(\"Masukkan total belanja: Rp \"))\n",
        "if total_belanja >= 500000:\n",
        "  diskon = 0.20 * total_belanja\n",
        "elif total_belanja >= 250000:\n",
        "  diskon = 0.10 * total_belanja\n",
        "else:\n",
        "  diskon = 0\n",
        "total_bayar = total_belanja - diskon\n",
        "print(\"diskon   :\", diskon)\n",
        "print(\"total bayar:\", total_bayar)"
      ],
      "metadata": {
        "colab": {
          "base_uri": "https://localhost:8080/"
        },
        "id": "IPxI86xsvVDw",
        "outputId": "303a4f9f-392d-495d-c22e-2098e567210a"
      },
      "execution_count": 19,
      "outputs": [
        {
          "output_type": "stream",
          "name": "stdout",
          "text": [
            "Masukkan total belanja: Rp 100000\n",
            "diskon   : 0\n",
            "total bayar: 100000.0\n"
          ]
        }
      ]
    },
    {
      "cell_type": "code",
      "source": [],
      "metadata": {
        "id": "zNkfbVmJxJdS"
      },
      "execution_count": null,
      "outputs": []
    }
  ]
}